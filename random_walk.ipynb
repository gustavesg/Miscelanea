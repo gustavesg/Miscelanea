{
  "nbformat": 4,
  "nbformat_minor": 0,
  "metadata": {
    "colab": {
      "name": "random_walk.ipynb",
      "provenance": [],
      "collapsed_sections": []
    },
    "kernelspec": {
      "name": "python3",
      "display_name": "Python 3"
    },
    "language_info": {
      "name": "python"
    }
  },
  "cells": [
    {
      "cell_type": "code",
      "source": [
        "#EXAMPLE OF THE BOOK PROBABILITY, A MODERN COURSE WITH APPLICATIONS (ROSS), PAG.499"
      ],
      "metadata": {
        "id": "irdwWobtnJ-z"
      },
      "execution_count": null,
      "outputs": []
    },
    {
      "cell_type": "code",
      "source": [
        "#IMPORT LIBRARIES\n",
        "import random\n",
        "import math\n",
        "import scipy.special\n",
        "import matplotlib.pyplot as plt"
      ],
      "metadata": {
        "id": "jSk2muzJJ6vG"
      },
      "execution_count": 1,
      "outputs": []
    },
    {
      "cell_type": "code",
      "execution_count": 2,
      "metadata": {
        "id": "12mRgCQpJWAT"
      },
      "outputs": [],
      "source": [
        "#STORE THE FINAL POSITIONS OF SIMULATIONS\n",
        "list_positions = []\n",
        "\n",
        "#HAVE 100000 SIMULATIONS\n",
        "for k in range(100000):\n",
        "  \n",
        "  #START WITH 0\n",
        "  position = 0\n",
        "\n",
        "  #10 TRANSITIONS\n",
        "  for i in range(10):\n",
        "\n",
        "    if random.random() <= 0.5:\n",
        "\n",
        "      #MOVE TO RIGHT\n",
        "      position += 1\n",
        "  \n",
        "    else:\n",
        "\n",
        "      #MOVE TO LEFT\n",
        "      position -= 1\n",
        "\n",
        "  #APPEND TO LIST OF POSITIONS\n",
        "  list_positions.append(position)"
      ]
    },
    {
      "cell_type": "code",
      "source": [
        "#FREQ OF FINAL POSITION 4\n",
        "list_positions.count(4)/100000"
      ],
      "metadata": {
        "colab": {
          "base_uri": "https://localhost:8080/"
        },
        "id": "r4cQZ2e5KGwX",
        "outputId": "02164d04-050e-45aa-dd54-df83b9e98085"
      },
      "execution_count": 3,
      "outputs": [
        {
          "output_type": "execute_result",
          "data": {
            "text/plain": [
              "0.1161"
            ]
          },
          "metadata": {},
          "execution_count": 3
        }
      ]
    },
    {
      "cell_type": "code",
      "source": [
        "#PROBABILITY FOR FORMULA\n",
        "formula = scipy.special.binom(10,7)*(0.5**7)*(0.5**3)"
      ],
      "metadata": {
        "id": "In_N29ruSREa"
      },
      "execution_count": 4,
      "outputs": []
    },
    {
      "cell_type": "code",
      "source": [
        "formula"
      ],
      "metadata": {
        "colab": {
          "base_uri": "https://localhost:8080/"
        },
        "id": "0U0cr34YTgIi",
        "outputId": "13127f3f-26e3-4de1-9763-fa29b1939005"
      },
      "execution_count": 5,
      "outputs": [
        {
          "output_type": "execute_result",
          "data": {
            "text/plain": [
              "0.1171875"
            ]
          },
          "metadata": {},
          "execution_count": 5
        }
      ]
    },
    {
      "cell_type": "code",
      "source": [
        "#PLOT POSITIONS OF THE POINT FOR SPECIFIC SIMULATION\n",
        "\n",
        "#START WITH 0\n",
        "position = 0\n",
        "\n",
        "#10 TRANSITIONS\n",
        "for i in range(10):\n",
        "\n",
        "  #START THE FIGURE AND AXES\n",
        "  fig = plt.figure(figsize = (5,0.25))\n",
        "  eixo = fig.add_axes([0,0,1,1])\n",
        "\n",
        "  eixo.set_yticks([])\n",
        "  eixo.set_xticks([i for i in range(-10,11,1)])\n",
        "  \n",
        "  #LIMITS\n",
        "  eixo.set_xlim(-10,10)\n",
        "\n",
        "  #p = 0.5\n",
        "  if random.random() <= 0.5:\n",
        "\n",
        "    #MOVE TO RIGHT\n",
        "    position += 1\n",
        "\n",
        "  else:\n",
        "\n",
        "    #MOVE TO LEFT\n",
        "    position -= 1\n",
        "\n",
        "  #ADD THE POINT TO THE GRAPH\n",
        "  eixo.plot(position,0, marker= \".\", markersize=20, markeredgecolor=\"red\", markerfacecolor=\"green\")\n",
        "\n",
        "\n"
      ],
      "metadata": {
        "colab": {
          "base_uri": "https://localhost:8080/",
          "height": 507
        },
        "id": "8hVLBObQhhE1",
        "outputId": "1db1a033-3a30-4cef-8689-69df086945de"
      },
      "execution_count": 7,
      "outputs": [
        {
          "output_type": "display_data",
          "data": {
            "text/plain": [
              "<Figure size 360x18 with 1 Axes>"
            ],
            "image/png": "[encoded data removed]"
          },
          "metadata": {
            "needs_background": "light"
          }
        },
        {
          "output_type": "display_data",
          "data": {
            "text/plain": [
              "<Figure size 360x18 with 1 Axes>"
            ],
            "image/png": "[encoded data removed]"
          },
          "metadata": {
            "needs_background": "light"
          }
        },
        {
          "output_type": "display_data",
          "data": {
            "text/plain": [
              "<Figure size 360x18 with 1 Axes>"
            ],
            "image/png": "[encoded data removed]"
          },
          "metadata": {
            "needs_background": "light"
          }
        },
        {
          "output_type": "display_data",
          "data": {
            "text/plain": [
              "<Figure size 360x18 with 1 Axes>"
            ],
            "image/png": "[encoded data removed]"
          },
          "metadata": {
            "needs_background": "light"
          }
        },
        {
          "output_type": "display_data",
          "data": {
            "text/plain": [
              "<Figure size 360x18 with 1 Axes>"
            ],
            "image/png": "[encoded data removed]"
          },
          "metadata": {
            "needs_background": "light"
          }
        },
        {
          "output_type": "display_data",
          "data": {
            "text/plain": [
              "<Figure size 360x18 with 1 Axes>"
            ],
            "image/png": "[encoded data removed]"
          },
          "metadata": {
            "needs_background": "light"
          }
        },
        {
          "output_type": "display_data",
          "data": {
            "text/plain": [
              "<Figure size 360x18 with 1 Axes>"
            ],
            "image/png": "[encoded data removed]"
          },
          "metadata": {
            "needs_background": "light"
          }
        },
        {
          "output_type": "display_data",
          "data": {
            "text/plain": [
              "<Figure size 360x18 with 1 Axes>"
            ],
            "image/png": "[encoded data removed]"
          },
          "metadata": {
            "needs_background": "light"
          }
        },
        {
          "output_type": "display_data",
          "data": {
            "text/plain": [
              "<Figure size 360x18 with 1 Axes>"
            ],
            "image/png": "[encoded data removed]"
          },
          "metadata": {
            "needs_background": "light"
          }
        },
        {
          "output_type": "display_data",
          "data": {
            "text/plain": [
              "<Figure size 360x18 with 1 Axes>"
            ],
            "image/png": "[encoded data removed]"
          },
          "metadata": {
            "needs_background": "light"
          }
        }
      ]
    }
  ]
}